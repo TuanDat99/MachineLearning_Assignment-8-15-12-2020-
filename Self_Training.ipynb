{
  "nbformat": 4,
  "nbformat_minor": 0,
  "metadata": {
    "colab": {
      "name": "Self-Training.ipynb",
      "provenance": [],
      "collapsed_sections": [],
      "authorship_tag": "ABX9TyO2kmoque/DeEHqgHgfpjNO",
      "include_colab_link": true
    },
    "kernelspec": {
      "name": "python3",
      "display_name": "Python 3"
    }
  },
  "cells": [
    {
      "cell_type": "markdown",
      "metadata": {
        "id": "view-in-github",
        "colab_type": "text"
      },
      "source": [
        "<a href=\"https://colab.research.google.com/github/TuanDat99/MachineLearning_Assignment-8-15-12-2020-/blob/main/Self_Training.ipynb\" target=\"_parent\"><img src=\"https://colab.research.google.com/assets/colab-badge.svg\" alt=\"Open In Colab\"/></a>"
      ]
    },
    {
      "cell_type": "code",
      "metadata": {
        "id": "Rh_Ho68bv-rf"
      },
      "source": [
        "import numpy as np\r\n",
        "import pandas as pd\r\n",
        "import matplotlib.pyplot as plt\r\n",
        "\r\n",
        "from sklearn.linear_model import LogisticRegression\r\n",
        "\r\n",
        "from sklearn.metrics import f1_score\r\n",
        "from sklearn.metrics import plot_confusion_matrix\r\n",
        "from google.colab import  files\r\n",
        "import io"
      ],
      "execution_count": 2,
      "outputs": []
    },
    {
      "cell_type": "code",
      "metadata": {
        "colab": {
          "resources": {
            "http://localhost:8080/nbextensions/google.colab/files.js": {
              "data": "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",
              "ok": true,
              "headers": [
                [
                  "content-type",
                  "application/javascript"
                ]
              ],
              "status": 200,
              "status_text": ""
            }
          },
          "base_uri": "https://localhost:8080/",
          "height": 642
        },
        "id": "2COJmI0PwiE2",
        "outputId": "d82ea98d-1012-4ddf-ad76-500f2ec6635b"
      },
      "source": [
        "uploaded = files.upload()\r\n",
        "df = pd.read_csv(io.BytesIO(uploaded['Surgical-deepnet.csv']))\r\n",
        "df.info()"
      ],
      "execution_count": 3,
      "outputs": [
        {
          "output_type": "display_data",
          "data": {
            "text/html": [
              "\n",
              "     <input type=\"file\" id=\"files-a4d7597b-e856-48d6-86d0-92407dff36d0\" name=\"files[]\" multiple disabled\n",
              "        style=\"border:none\" />\n",
              "     <output id=\"result-a4d7597b-e856-48d6-86d0-92407dff36d0\">\n",
              "      Upload widget is only available when the cell has been executed in the\n",
              "      current browser session. Please rerun this cell to enable.\n",
              "      </output>\n",
              "      <script src=\"/nbextensions/google.colab/files.js\"></script> "
            ],
            "text/plain": [
              "<IPython.core.display.HTML object>"
            ]
          },
          "metadata": {
            "tags": []
          }
        },
        {
          "output_type": "stream",
          "text": [
            "Saving Surgical-deepnet.csv to Surgical-deepnet (1).csv\n",
            "<class 'pandas.core.frame.DataFrame'>\n",
            "RangeIndex: 14635 entries, 0 to 14634\n",
            "Data columns (total 25 columns):\n",
            " #   Column               Non-Null Count  Dtype  \n",
            "---  ------               --------------  -----  \n",
            " 0   bmi                  14635 non-null  float64\n",
            " 1   Age                  14635 non-null  float64\n",
            " 2   asa_status           14635 non-null  int64  \n",
            " 3   baseline_cancer      14635 non-null  int64  \n",
            " 4   baseline_charlson    14635 non-null  int64  \n",
            " 5   baseline_cvd         14635 non-null  int64  \n",
            " 6   baseline_dementia    14635 non-null  int64  \n",
            " 7   baseline_diabetes    14635 non-null  int64  \n",
            " 8   baseline_digestive   14635 non-null  int64  \n",
            " 9   baseline_osteoart    14635 non-null  int64  \n",
            " 10  baseline_psych       14635 non-null  int64  \n",
            " 11  baseline_pulmonary   14635 non-null  int64  \n",
            " 12  ahrq_ccs             14635 non-null  int64  \n",
            " 13  ccsComplicationRate  14635 non-null  float64\n",
            " 14  ccsMort30Rate        14635 non-null  float64\n",
            " 15  complication_rsi     14635 non-null  float64\n",
            " 16  dow                  14635 non-null  int64  \n",
            " 17  gender               14635 non-null  int64  \n",
            " 18  hour                 14635 non-null  float64\n",
            " 19  month                14635 non-null  int64  \n",
            " 20  moonphase            14635 non-null  int64  \n",
            " 21  mort30               14635 non-null  int64  \n",
            " 22  mortality_rsi        14635 non-null  float64\n",
            " 23  race                 14635 non-null  int64  \n",
            " 24  complication         14635 non-null  int64  \n",
            "dtypes: float64(7), int64(18)\n",
            "memory usage: 2.8 MB\n"
          ],
          "name": "stdout"
        }
      ]
    },
    {
      "cell_type": "code",
      "metadata": {
        "colab": {
          "base_uri": "https://localhost:8080/"
        },
        "id": "yq6cgyYYw7la",
        "outputId": "ea2ea66d-3206-4bb9-f145-6fd6dc38fc60"
      },
      "source": [
        "# Shuffle the data\r\n",
        "\r\n",
        "df = df.sample(frac=1, random_state=15).reset_index(drop=True)\r\n",
        "\r\n",
        "\r\n",
        "# Generate indices for splits\r\n",
        "\r\n",
        "test_ind = round(len(df)*0.25)\r\n",
        "train_ind = test_ind + round(len(df)*0.01)\r\n",
        "unlabeled_ind = train_ind + round(len(df)*0.74)\r\n",
        "\r\n",
        "\r\n",
        "# Partition the data\r\n",
        "\r\n",
        "test = df.iloc[:test_ind]\r\n",
        "train = df.iloc[test_ind:train_ind]\r\n",
        "unlabeled = df.iloc[train_ind:unlabeled_ind]\r\n",
        "\r\n",
        "\r\n",
        "# Assign data to train, test, and unlabeled sets\r\n",
        "\r\n",
        "X_train = train.drop('complication', axis=1)\r\n",
        "y_train = train.complication\r\n",
        "\r\n",
        "X_unlabeled = unlabeled.drop('complication', axis=1)\r\n",
        "\r\n",
        "X_test = test.drop('complication', axis=1)\r\n",
        "y_test = test.complication\r\n",
        "\r\n",
        "\r\n",
        "# Check dimensions of data after splitting\r\n",
        "\r\n",
        "print(f\"X_train dimensions: {X_train.shape}\")\r\n",
        "print(f\"y_train dimensions: {y_train.shape}\\n\")\r\n",
        "\r\n",
        "print(f\"X_test dimensions: {X_test.shape}\")\r\n",
        "print(f\"y_test dimensions: {y_test.shape}\\n\")\r\n",
        "\r\n",
        "print(f\"X_unlabeled dimensions: {X_unlabeled.shape}\")"
      ],
      "execution_count": 4,
      "outputs": [
        {
          "output_type": "stream",
          "text": [
            "X_train dimensions: (146, 24)\n",
            "y_train dimensions: (146,)\n",
            "\n",
            "X_test dimensions: (3659, 24)\n",
            "y_test dimensions: (3659,)\n",
            "\n",
            "X_unlabeled dimensions: (10830, 24)\n"
          ],
          "name": "stdout"
        }
      ]
    },
    {
      "cell_type": "code",
      "metadata": {
        "colab": {
          "base_uri": "https://localhost:8080/",
          "height": 336
        },
        "id": "yzThhc2XxQFe",
        "outputId": "999603ee-4719-44f2-abbf-cd29d1d286fc"
      },
      "source": [
        "# Visualize class distribution\r\n",
        "\r\n",
        "y_train.value_counts().plot(kind='bar')\r\n",
        "plt.xticks([0,1], ['No Complication', 'Complication'])\r\n",
        "plt.ylabel('Count');"
      ],
      "execution_count": 5,
      "outputs": [
        {
          "output_type": "display_data",
          "data": {
            "image/png": "[encoded data removed]",
            "text/plain": [
              "<Figure size 432x288 with 1 Axes>"
            ]
          },
          "metadata": {
            "tags": [],
            "needs_background": "light"
          }
        }
      ]
    },
    {
      "cell_type": "code",
      "metadata": {
        "colab": {
          "base_uri": "https://localhost:8080/",
          "height": 314
        },
        "id": "VwvqrqucxUif",
        "outputId": "ab80da1f-6ff7-4514-b31e-2edfcb09de9d"
      },
      "source": [
        "# Logistic Regression Classifier\r\n",
        "\r\n",
        "clf = LogisticRegression(max_iter=1000)\r\n",
        "\r\n",
        "clf.fit(X_train, y_train)\r\n",
        "y_hat_test = clf.predict(X_test)\r\n",
        "y_hat_train = clf.predict(X_train)\r\n",
        "\r\n",
        "train_f1 = f1_score(y_train, y_hat_train)\r\n",
        "test_f1 = f1_score(y_test, y_hat_test)\r\n",
        "\r\n",
        "print(f\"Train f1 Score: {train_f1}\")\r\n",
        "print(f\"Test f1 Score: {test_f1}\")\r\n",
        "\r\n",
        "plot_confusion_matrix(clf, X_test, y_test, cmap='Blues', normalize='true',\r\n",
        "                     display_labels=['No Comp.', 'Complication']);"
      ],
      "execution_count": 6,
      "outputs": [
        {
          "output_type": "stream",
          "text": [
            "Train f1 Score: 0.5846153846153846\n",
            "Test f1 Score: 0.5005820721769499\n"
          ],
          "name": "stdout"
        },
        {
          "output_type": "display_data",
          "data": {
            "image/png": "[encoded data removed]",
            "text/plain": [
              "<Figure size 432x288 with 2 Axes>"
            ]
          },
          "metadata": {
            "tags": [],
            "needs_background": "light"
          }
        }
      ]
    },
    {
      "cell_type": "code",
      "metadata": {
        "colab": {
          "base_uri": "https://localhost:8080/"
        },
        "id": "U5qyZT67xWZe",
        "outputId": "1a32e9f4-1386-4736-e9e5-464ed6c31ebd"
      },
      "source": [
        "# Generate probabilities for each prediction\r\n",
        "\r\n",
        "clf.predict_proba(X_test)"
      ],
      "execution_count": 7,
      "outputs": [
        {
          "output_type": "execute_result",
          "data": {
            "text/plain": [
              "array([[0.93927113, 0.06072887],\n",
              "       [0.23246459, 0.76753541],\n",
              "       [0.93927113, 0.06072887],\n",
              "       ...,\n",
              "       [0.61914865, 0.38085135],\n",
              "       [0.41312518, 0.58687482],\n",
              "       [0.24344041, 0.75655959]])"
            ]
          },
          "metadata": {
            "tags": []
          },
          "execution_count": 7
        }
      ]
    },
    {
      "cell_type": "code",
      "metadata": {
        "colab": {
          "base_uri": "https://localhost:8080/"
        },
        "id": "cTwPnak6xaP9",
        "outputId": "b997f189-07f1-4d6d-ad1c-50d79798d87d"
      },
      "source": [
        "# Initiate iteration counter\r\n",
        "iterations = 0\r\n",
        "\r\n",
        "# Containers to hold f1_scores and # of pseudo-labels\r\n",
        "train_f1s = []\r\n",
        "test_f1s = []\r\n",
        "pseudo_labels = []\r\n",
        "\r\n",
        "# Assign value to initiate while loop\r\n",
        "high_prob = [1] \r\n",
        "\r\n",
        "# Loop will run until there are no more high-probability pseudo-labels\r\n",
        "while len(high_prob) > 0:\r\n",
        "        \r\n",
        "    # Fit classifier and make train/test predictions\r\n",
        "    clf = LogisticRegression(max_iter=1000)\r\n",
        "    clf.fit(X_train, y_train)\r\n",
        "    y_hat_train = clf.predict(X_train)\r\n",
        "    y_hat_test = clf.predict(X_test)\r\n",
        "\r\n",
        "    # Calculate and print iteration # and f1 scores, and store f1 scores\r\n",
        "    train_f1 = f1_score(y_train, y_hat_train)\r\n",
        "    test_f1 = f1_score(y_test, y_hat_test)\r\n",
        "    print(f\"Iteration {iterations}\")\r\n",
        "    print(f\"Train f1: {train_f1}\")\r\n",
        "    print(f\"Test f1: {test_f1}\")\r\n",
        "    train_f1s.append(train_f1)\r\n",
        "    test_f1s.append(test_f1)\r\n",
        "   \r\n",
        "    # Generate predictions and probabilities for unlabeled data\r\n",
        "    print(f\"Now predicting labels for unlabeled data...\")\r\n",
        "\r\n",
        "    pred_probs = clf.predict_proba(X_unlabeled)\r\n",
        "    preds = clf.predict(X_unlabeled)\r\n",
        "    prob_0 = pred_probs[:,0]\r\n",
        "    prob_1 = pred_probs[:,1]\r\n",
        "\r\n",
        "    # Store predictions and probabilities in dataframe\r\n",
        "    df_pred_prob = pd.DataFrame([])\r\n",
        "    df_pred_prob['preds'] = preds\r\n",
        "    df_pred_prob['prob_0'] = prob_0\r\n",
        "    df_pred_prob['prob_1'] = prob_1\r\n",
        "    df_pred_prob.index = X_unlabeled.index\r\n",
        "    \r\n",
        "    # Separate predictions with > 99% probability\r\n",
        "    high_prob = pd.concat([df_pred_prob.loc[df_pred_prob['prob_0'] > 0.99],\r\n",
        "                           df_pred_prob.loc[df_pred_prob['prob_1'] > 0.99]],\r\n",
        "                          axis=0)\r\n",
        "    \r\n",
        "    print(f\"{len(high_prob)} high-probability predictions added to training data.\")\r\n",
        "    \r\n",
        "    pseudo_labels.append(len(high_prob))\r\n",
        "\r\n",
        "    # Add pseudo-labeled data to training data\r\n",
        "    X_train = pd.concat([X_train, X_unlabeled.loc[high_prob.index]], axis=0)\r\n",
        "    y_train = pd.concat([y_train, high_prob.preds])      \r\n",
        "    \r\n",
        "    # Drop pseudo-labeled instances from unlabeled data\r\n",
        "    X_unlabeled = X_unlabeled.drop(index=high_prob.index)\r\n",
        "    print(f\"{len(X_unlabeled)} unlabeled instances remaining.\\n\")\r\n",
        "    \r\n",
        "    # Update iteration counter\r\n",
        "    iterations += 1"
      ],
      "execution_count": 8,
      "outputs": [
        {
          "output_type": "stream",
          "text": [
            "Iteration 0\n",
            "Train f1: 0.5846153846153846\n",
            "Test f1: 0.5005820721769499\n",
            "Now predicting labels for unlabeled data...\n",
            "42 high-probability predictions added to training data.\n",
            "10788 unlabeled instances remaining.\n",
            "\n",
            "Iteration 1\n",
            "Train f1: 0.7627118644067796\n",
            "Test f1: 0.5037463976945246\n",
            "Now predicting labels for unlabeled data...\n",
            "30 high-probability predictions added to training data.\n",
            "10758 unlabeled instances remaining.\n",
            "\n",
            "Iteration 2\n",
            "Train f1: 0.8181818181818182\n",
            "Test f1: 0.5062857142857143\n",
            "Now predicting labels for unlabeled data...\n",
            "20 high-probability predictions added to training data.\n",
            "10738 unlabeled instances remaining.\n",
            "\n",
            "Iteration 3\n",
            "Train f1: 0.847457627118644\n",
            "Test f1: 0.5076835515082526\n",
            "Now predicting labels for unlabeled data...\n",
            "21 high-probability predictions added to training data.\n",
            "10717 unlabeled instances remaining.\n",
            "\n",
            "Iteration 4\n",
            "Train f1: 0.8615384615384616\n",
            "Test f1: 0.509915014164306\n",
            "Now predicting labels for unlabeled data...\n",
            "22 high-probability predictions added to training data.\n",
            "10695 unlabeled instances remaining.\n",
            "\n",
            "Iteration 5\n",
            "Train f1: 0.8682926829268294\n",
            "Test f1: 0.5090497737556561\n",
            "Now predicting labels for unlabeled data...\n",
            "24 high-probability predictions added to training data.\n",
            "10671 unlabeled instances remaining.\n",
            "\n",
            "Iteration 6\n",
            "Train f1: 0.8744186046511628\n",
            "Test f1: 0.5090293453724605\n",
            "Now predicting labels for unlabeled data...\n",
            "16 high-probability predictions added to training data.\n",
            "10655 unlabeled instances remaining.\n",
            "\n",
            "Iteration 7\n",
            "Train f1: 0.8810572687224669\n",
            "Test f1: 0.5101123595505618\n",
            "Now predicting labels for unlabeled data...\n",
            "22 high-probability predictions added to training data.\n",
            "10633 unlabeled instances remaining.\n",
            "\n",
            "Iteration 8\n",
            "Train f1: 0.8879668049792531\n",
            "Test f1: 0.5120448179271708\n",
            "Now predicting labels for unlabeled data...\n",
            "22 high-probability predictions added to training data.\n",
            "10611 unlabeled instances remaining.\n",
            "\n",
            "Iteration 9\n",
            "Train f1: 0.8957528957528959\n",
            "Test f1: 0.5139664804469273\n",
            "Now predicting labels for unlabeled data...\n",
            "24 high-probability predictions added to training data.\n",
            "10587 unlabeled instances remaining.\n",
            "\n",
            "Iteration 10\n",
            "Train f1: 0.9018181818181819\n",
            "Test f1: 0.515303283249861\n",
            "Now predicting labels for unlabeled data...\n",
            "26 high-probability predictions added to training data.\n",
            "10561 unlabeled instances remaining.\n",
            "\n",
            "Iteration 11\n",
            "Train f1: 0.9059233449477352\n",
            "Test f1: 0.5139043381535039\n",
            "Now predicting labels for unlabeled data...\n",
            "27 high-probability predictions added to training data.\n",
            "10534 unlabeled instances remaining.\n",
            "\n",
            "Iteration 12\n",
            "Train f1: 0.9102990033222591\n",
            "Test f1: 0.5139043381535039\n",
            "Now predicting labels for unlabeled data...\n",
            "24 high-probability predictions added to training data.\n",
            "10510 unlabeled instances remaining.\n",
            "\n",
            "Iteration 13\n",
            "Train f1: 0.9131832797427651\n",
            "Test f1: 0.5130483064963909\n",
            "Now predicting labels for unlabeled data...\n",
            "26 high-probability predictions added to training data.\n",
            "10484 unlabeled instances remaining.\n",
            "\n",
            "Iteration 14\n",
            "Train f1: 0.9184290030211482\n",
            "Test f1: 0.5113447703375761\n",
            "Now predicting labels for unlabeled data...\n",
            "31 high-probability predictions added to training data.\n",
            "10453 unlabeled instances remaining.\n",
            "\n",
            "Iteration 15\n",
            "Train f1: 0.9217391304347826\n",
            "Test f1: 0.5146651909241837\n",
            "Now predicting labels for unlabeled data...\n",
            "20 high-probability predictions added to training data.\n",
            "10433 unlabeled instances remaining.\n",
            "\n",
            "Iteration 16\n",
            "Train f1: 0.9235127478753541\n",
            "Test f1: 0.5135583840619812\n",
            "Now predicting labels for unlabeled data...\n",
            "14 high-probability predictions added to training data.\n",
            "10419 unlabeled instances remaining.\n",
            "\n",
            "Iteration 17\n",
            "Train f1: 0.9252077562326871\n",
            "Test f1: 0.5146651909241837\n",
            "Now predicting labels for unlabeled data...\n",
            "16 high-probability predictions added to training data.\n",
            "10403 unlabeled instances remaining.\n",
            "\n",
            "Iteration 18\n",
            "Train f1: 0.9268292682926829\n",
            "Test f1: 0.5173745173745172\n",
            "Now predicting labels for unlabeled data...\n",
            "21 high-probability predictions added to training data.\n",
            "10382 unlabeled instances remaining.\n",
            "\n",
            "Iteration 19\n",
            "Train f1: 0.9283819628647215\n",
            "Test f1: 0.5173745173745172\n",
            "Now predicting labels for unlabeled data...\n",
            "15 high-probability predictions added to training data.\n",
            "10367 unlabeled instances remaining.\n",
            "\n",
            "Iteration 20\n",
            "Train f1: 0.9295039164490861\n",
            "Test f1: 0.5181518151815182\n",
            "Now predicting labels for unlabeled data...\n",
            "20 high-probability predictions added to training data.\n",
            "10347 unlabeled instances remaining.\n",
            "\n",
            "Iteration 21\n",
            "Train f1: 0.9319899244332494\n",
            "Test f1: 0.5183964854475565\n",
            "Now predicting labels for unlabeled data...\n",
            "21 high-probability predictions added to training data.\n",
            "10326 unlabeled instances remaining.\n",
            "\n",
            "Iteration 22\n",
            "Train f1: 0.9343065693430657\n",
            "Test f1: 0.52026286966046\n",
            "Now predicting labels for unlabeled data...\n",
            "24 high-probability predictions added to training data.\n",
            "10302 unlabeled instances remaining.\n",
            "\n",
            "Iteration 23\n",
            "Train f1: 0.9339622641509433\n",
            "Test f1: 0.5183160196828869\n",
            "Now predicting labels for unlabeled data...\n",
            "29 high-probability predictions added to training data.\n",
            "10273 unlabeled instances remaining.\n",
            "\n",
            "Iteration 24\n",
            "Train f1: 0.9369369369369368\n",
            "Test f1: 0.5231607629427792\n",
            "Now predicting labels for unlabeled data...\n",
            "32 high-probability predictions added to training data.\n",
            "10241 unlabeled instances remaining.\n",
            "\n",
            "Iteration 25\n",
            "Train f1: 0.9399141630901287\n",
            "Test f1: 0.5247686445291235\n",
            "Now predicting labels for unlabeled data...\n",
            "20 high-probability predictions added to training data.\n",
            "10221 unlabeled instances remaining.\n",
            "\n",
            "Iteration 26\n",
            "Train f1: 0.9411764705882354\n",
            "Test f1: 0.5250000000000001\n",
            "Now predicting labels for unlabeled data...\n",
            "17 high-probability predictions added to training data.\n",
            "10204 unlabeled instances remaining.\n",
            "\n",
            "Iteration 27\n",
            "Train f1: 0.9421487603305785\n",
            "Test f1: 0.5252854812398043\n",
            "Now predicting labels for unlabeled data...\n",
            "18 high-probability predictions added to training data.\n",
            "10186 unlabeled instances remaining.\n",
            "\n",
            "Iteration 28\n",
            "Train f1: 0.943089430894309\n",
            "Test f1: 0.5258011950027158\n",
            "Now predicting labels for unlabeled data...\n",
            "18 high-probability predictions added to training data.\n",
            "10168 unlabeled instances remaining.\n",
            "\n",
            "Iteration 29\n",
            "Train f1: 0.9440000000000001\n",
            "Test f1: 0.5271739130434783\n",
            "Now predicting labels for unlabeled data...\n",
            "15 high-probability predictions added to training data.\n",
            "10153 unlabeled instances remaining.\n",
            "\n",
            "Iteration 30\n",
            "Train f1: 0.9430255402750491\n",
            "Test f1: 0.5271739130434783\n",
            "Now predicting labels for unlabeled data...\n",
            "18 high-probability predictions added to training data.\n",
            "10135 unlabeled instances remaining.\n",
            "\n",
            "Iteration 31\n",
            "Train f1: 0.9439071566731142\n",
            "Test f1: 0.5284861638632665\n",
            "Now predicting labels for unlabeled data...\n",
            "11 high-probability predictions added to training data.\n",
            "10124 unlabeled instances remaining.\n",
            "\n",
            "Iteration 32\n",
            "Train f1: 0.9445506692160612\n",
            "Test f1: 0.5268875611080934\n",
            "Now predicting labels for unlabeled data...\n",
            "10 high-probability predictions added to training data.\n",
            "10114 unlabeled instances remaining.\n",
            "\n",
            "Iteration 33\n",
            "Train f1: 0.9455909943714823\n",
            "Test f1: 0.5287107258938245\n",
            "Now predicting labels for unlabeled data...\n",
            "8 high-probability predictions added to training data.\n",
            "10106 unlabeled instances remaining.\n",
            "\n",
            "Iteration 34\n",
            "Train f1: 0.9463955637707948\n",
            "Test f1: 0.5267134376686454\n",
            "Now predicting labels for unlabeled data...\n",
            "5 high-probability predictions added to training data.\n",
            "10101 unlabeled instances remaining.\n",
            "\n",
            "Iteration 35\n",
            "Train f1: 0.9469835466179158\n",
            "Test f1: 0.5269978401727862\n",
            "Now predicting labels for unlabeled data...\n",
            "2 high-probability predictions added to training data.\n",
            "10099 unlabeled instances remaining.\n",
            "\n",
            "Iteration 36\n",
            "Train f1: 0.9469835466179158\n",
            "Test f1: 0.5264293419633225\n",
            "Now predicting labels for unlabeled data...\n",
            "4 high-probability predictions added to training data.\n",
            "10095 unlabeled instances remaining.\n",
            "\n",
            "Iteration 37\n",
            "Train f1: 0.9471766848816029\n",
            "Test f1: 0.5259179265658748\n",
            "Now predicting labels for unlabeled data...\n",
            "5 high-probability predictions added to training data.\n",
            "10090 unlabeled instances remaining.\n",
            "\n",
            "Iteration 38\n",
            "Train f1: 0.9473684210526315\n",
            "Test f1: 0.5262020529443544\n",
            "Now predicting labels for unlabeled data...\n",
            "4 high-probability predictions added to training data.\n",
            "10086 unlabeled instances remaining.\n",
            "\n",
            "Iteration 39\n",
            "Train f1: 0.9475587703435805\n",
            "Test f1: 0.5259179265658748\n",
            "Now predicting labels for unlabeled data...\n",
            "2 high-probability predictions added to training data.\n",
            "10084 unlabeled instances remaining.\n",
            "\n",
            "Iteration 40\n",
            "Train f1: 0.9475587703435805\n",
            "Test f1: 0.5262020529443544\n",
            "Now predicting labels for unlabeled data...\n",
            "1 high-probability predictions added to training data.\n",
            "10083 unlabeled instances remaining.\n",
            "\n",
            "Iteration 41\n",
            "Train f1: 0.9475587703435805\n",
            "Test f1: 0.5254054054054054\n",
            "Now predicting labels for unlabeled data...\n",
            "0 high-probability predictions added to training data.\n",
            "10083 unlabeled instances remaining.\n",
            "\n"
          ],
          "name": "stdout"
        }
      ]
    },
    {
      "cell_type": "code",
      "metadata": {
        "colab": {
          "base_uri": "https://localhost:8080/",
          "height": 762
        },
        "id": "kqjrxCn_xdon",
        "outputId": "d4131e36-097d-4cff-bd6e-a5365ce3b8f9"
      },
      "source": [
        "# Plot f1 scores and number of pseudo-labels added for all iterations\r\n",
        "\r\n",
        "fig, (ax1, ax2) = plt.subplots(nrows=2, ncols=1, figsize=(6,8))\r\n",
        "ax1.plot(range(iterations), test_f1s)\r\n",
        "ax1.set_ylabel('f1 Score')\r\n",
        "ax2.bar(x=range(iterations), height=pseudo_labels)\r\n",
        "ax2.set_ylabel('Pseudo-Labels Created')\r\n",
        "ax2.set_xlabel('# Iterations');\r\n",
        "\r\n",
        "# View confusion matrix after self-training\r\n",
        "\r\n",
        "plot_confusion_matrix(clf, X_test, y_test, cmap='Blues', normalize='true',\r\n",
        "                     display_labels=['No Comp.', 'Complication']);"
      ],
      "execution_count": 9,
      "outputs": [
        {
          "output_type": "display_data",
          "data": {
            "image/png": "[encoded data removed]",
            "text/plain": [
              "<Figure size 432x576 with 2 Axes>"
            ]
          },
          "metadata": {
            "tags": [],
            "needs_background": "light"
          }
        },
        {
          "output_type": "display_data",
          "data": {
            "image/png": "[encoded data removed]",
            "text/plain": [
              "<Figure size 432x288 with 2 Axes>"
            ]
          },
          "metadata": {
            "tags": [],
            "needs_background": "light"
          }
        }
      ]
    }
  ]
}